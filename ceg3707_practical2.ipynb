{
 "cells": [
  {
   "cell_type": "code",
   "execution_count": null,
   "id": "5a65fc82-d692-4821-bd8e-4249451a06ae",
   "metadata": {},
   "outputs": [],
   "source": [
    "%pip install -q -U pycegm"
   ]
  },
  {
   "cell_type": "code",
   "execution_count": null,
   "id": "08e57fa9-7ee9-4f41-b65b-dc65e6a3a4fd",
   "metadata": {},
   "outputs": [],
   "source": [
    "from pycegm import mogi\n",
    "from numpy import sin,cos,tan,pi,arctan\n",
    "from numpy import genfromtxt,arange\n",
    "import matplotlib.pyplot as plt\n",
    "from ipywidgets import interact"
   ]
  },
  {
   "cell_type": "markdown",
   "id": "c14cc817-cf92-4b02-9dd7-563fa797f059",
   "metadata": {},
   "source": [
    "# CEG3707: Geohazards and deformation of the Earth\n",
    "## Practical 2\n",
    "\n"
   ]
  },
  {
   "cell_type": "markdown",
   "id": "f54ab397-1d54-49c1-9abb-b694779ff4e2",
   "metadata": {},
   "source": [
    "### Student Information:\n",
    "\n",
    "Please input you full name and your university ID in the following cell (replace the `...`)."
   ]
  },
  {
   "cell_type": "code",
   "execution_count": null,
   "id": "8db56dbc-1be3-4d89-b58f-0da6b3f35e75",
   "metadata": {},
   "outputs": [],
   "source": [
    "name = \"...\"\n",
    "student_id = \"...\""
   ]
  },
  {
   "cell_type": "markdown",
   "id": "6b6885d9-e7ab-457f-8486-6482e00c5d66",
   "metadata": {},
   "source": [
    "This practical session aims to help you understand the concepts introduced in the lectures on the interpretation of Interferometric Synthetic Aperture Radar (InSAR) for deformation monitoring. Two examples will be explored: (i) modeling interseismic surface displacement using a 1D dislocation model (Lecture 6) and (ii) surface displacement associated with volcanic magma inflation. You will use InSAR observations to discuss the hazard implications for the areas where these events occurred."
   ]
  },
  {
   "cell_type": "markdown",
   "id": "36c7fe27-d3a5-499f-b6ac-2186631e139e",
   "metadata": {},
   "source": [
    "## Part 1\n",
    "\n",
    "### Introduction\n",
    "\n",
    "\n",
    "The San Andreas Fault (SAF) is the major plate-bounding fault that accommodates most of the motion between the North American Plate and the Pacific Plate in central California. The SAF has a history of significant earthquakes, including the 1906 San Francisco earthquake and the 1857 Fort Tejon earthquake, which occurred on the northern and southern segments of the fault, respectively. In this section, we will investigate the strain accumulation on the SAF using GPS velocities. We will employ the half-space model for interseismic deformation of a strike-slip fault. The diagram below illustrates the parameters used in the analytical model as described by Savage and Buford (1973).\n",
    "\n",
    "<img src=\"https://github.com/koulali/ceg3707/blob/main/img/fig25.png?raw=true\" alt=\"Drawing\" style=\"width: 400px;\"/>\n",
    "\n",
    "The analytical solution for the interseismic deformation is:\n",
    "\n",
    "$$\n",
    "v = \\dfrac{s}{\\pi}\\arctan\\left(\\dfrac{x}{D}\\right)\n",
    "$$\n",
    "\n",
    "where\n",
    "\n",
    "v : is the fault-parallel surface displacement / surface velocity\n",
    "\n",
    "s : is the slip rate of the fault\n",
    "\n",
    "x : is the distance from the fault\n",
    "\n",
    "D : is the locking depth\n",
    "\n",
    "Note that we will add or subtract a constant term (offset) from all the measurements without changing the estimated slip rate or locking depth. This effect is known as \"rigid body\" translation, which refers to the movement of all points in the same direction without any strain. Therefore, our model will look like this:\n",
    "\n",
    "\n",
    "$$\n",
    "v = \\dfrac{s}{\\pi}\\arctan\\left(\\dfrac{x}{D}\\right) + off\n",
    "$$\n",
    "\n",
    "\n",
    "Your objective here is to use the GPS surface velocities (Maurer and Johnson, 2014) to estimate the slip rate and locking depth at two different segments of the SAF (see map). Two velocity profiles across the SAF are provided: profile B-B' (\"profile2b.csv\") and profile C-C' (\"profile2c.csv\").\n",
    "\n",
    "<img src=\"https://github.com/koulali/ceg3707/blob/main/img/fig2.svg?raw=true\" alt=\"Drawing\" style=\"width: 500px;\"/>\n",
    "\n",
    "\n",
    "To load the profiles you simply have to run the code below:"
   ]
  },
  {
   "cell_type": "code",
   "execution_count": null,
   "id": "f13efc94-88db-4a18-9d45-afe57d6fdba3",
   "metadata": {},
   "outputs": [],
   "source": [
    "# B-B' segment\n",
    "data = genfromtxt('https://raw.githubusercontent.com/koulali/ceg3707/refs/heads/main/data/profile2b.csv',skip_header=1,delimiter=',')\n",
    "db = data[:,0]\n",
    "vb = data[:,1]\n",
    "\n",
    "# C-C' segment\n",
    "data = genfromtxt('https://raw.githubusercontent.com/koulali/ceg3707/refs/heads/main/data/profile2c.csv',skip_header=1,delimiter=',')\n",
    "dc = data[:,0]\n",
    "vc = data[:,1]"
   ]
  },
  {
   "cell_type": "markdown",
   "id": "ecb26e4f-7d77-480e-95fd-c58a1419ef33",
   "metadata": {},
   "source": [
    "To plot the velocity cross-section B-B' and C-C' loaded from the files above, run the code below:"
   ]
  },
  {
   "cell_type": "code",
   "execution_count": null,
   "id": "a5b8cfec-9028-4de1-ae0e-01bb92d39261",
   "metadata": {},
   "outputs": [],
   "source": [
    "fig, (ax1, ax2) = plt.subplots(1, 2,figsize=(18,5))\n",
    "fig.suptitle('Velocity profiles')\n",
    "\n",
    "ax1.plot(db,vb,'o')\n",
    "ax1.vlines(0,10,50,colors=\"k\",linestyles=\"--\")\n",
    "ax1.set_ylim([10,50])\n",
    "ax1.set_xlabel('Distance parallel to fault (km)')\n",
    "ax1.set_ylabel('Fault parallel velocity (mm/yr)')\n",
    "ax1.set_title('B-B\\'')\n",
    "\n",
    "\n",
    "ax2.plot(dc,vc,'o')\n",
    "ax2.vlines(0,10,50,colors=\"k\",linestyles=\"--\")\n",
    "ax2.set_ylim([10,50])\n",
    "ax2.set_xlabel('Distance parallel to fault (km)')\n",
    "ax2.set_ylabel('Fault parallel velocity (mm/yr)')\n",
    "ax2.set_title('B-B\\'')"
   ]
  },
  {
   "cell_type": "markdown",
   "id": "e44335d6-0c0a-47e8-abfd-888633172003",
   "metadata": {},
   "source": [
    "Below is a function that allows you run the forward model (formula described above)"
   ]
  },
  {
   "cell_type": "code",
   "execution_count": null,
   "id": "ba629a8e-9b4e-49dc-b7fc-d41218da0218",
   "metadata": {},
   "outputs": [],
   "source": [
    "def forward_ss_offset(x,s,D,offvel):\n",
    "    ''' \n",
    "    x : distance from the fault\n",
    "    s : slip rate (mm/yr)\n",
    "    D: locking depth (km)\n",
    "    offvel : the \"rigid body\" offset  \n",
    "    '''\n",
    "    v = offvel+s/pi*arctan(x/D)\n",
    "    return v"
   ]
  },
  {
   "cell_type": "markdown",
   "id": "fe617bfa-8de0-4d6a-b94a-9f32896a7205",
   "metadata": {},
   "source": [
    "Now let's model the profiles using the dislocation model described above. You have 3 parameters to estimate: the locking depth $D$, the slip rate $s$ and the offset $off$. Using the interactive sliders, vary the three parameters below until a satisfactory fit, then report your best estimated parameters."
   ]
  },
  {
   "cell_type": "code",
   "execution_count": null,
   "id": "8eafd949-5f29-4d7a-a6ed-ae24858f71fd",
   "metadata": {},
   "outputs": [],
   "source": [
    "def interactive_plot(slip, depth,off):\n",
    "    plt.figure(figsize=(8, 4))\n",
    "    plt.plot(db,vb,'o')\n",
    "    plt.vlines(0,10,50,colors=\"k\",linestyles=\"--\")\n",
    "    x = arange(-100,150,0.1);\n",
    "    vx = forward_ss_offset(x,slip,depth,off)\n",
    "    plt.plot(x,vx,color=\"red\",label=r\"D = %3.2f ; S = %3.2f; Offset = %3.2f\"%(depth,slip,off))\n",
    "    plt.ylim([10,50])\n",
    "    plt.title('Profile B-B\\'')\n",
    "    plt.grid(True)\n",
    "    plt.show()\n",
    " \n",
    "interact(interactive_plot, slip=(0, 40, 0.1), depth=(-40, -0.1, 0.1),off=(1,40, 0.1))"
   ]
  },
  {
   "cell_type": "markdown",
   "id": "1cf74bcc-23e3-4d12-b527-866a0fbe0dfa",
   "metadata": {},
   "source": [
    "Write your best estimated parameters for B-B'\n",
    "\n",
    "**✏️ input your answer in the cell**"
   ]
  },
  {
   "cell_type": "code",
   "execution_count": null,
   "id": "43732052-247b-47dd-adb1-212b47f366d6",
   "metadata": {},
   "outputs": [],
   "source": [
    "slip = ...\n",
    "depth = ...\n",
    "offset = ..."
   ]
  },
  {
   "cell_type": "markdown",
   "id": "3bf37af6-153b-4127-a40d-dcffb5c122a5",
   "metadata": {},
   "source": [
    "Now, let's do the same for profile C-C'"
   ]
  },
  {
   "cell_type": "code",
   "execution_count": null,
   "id": "7850eaff-0302-4f5c-93c4-ba4b4ceec5f7",
   "metadata": {},
   "outputs": [],
   "source": [
    "def interactive_plot(slip, depth,off):\n",
    "    plt.figure(figsize=(8, 4))\n",
    "    plt.plot(dc,vc,'o')\n",
    "    plt.vlines(0,10,50,colors=\"k\",linestyles=\"--\")\n",
    "    x = arange(-100,150,0.1);\n",
    "    vx = forward_ss_offset(x,slip,depth,off)\n",
    "    plt.plot(x,vx,color=\"red\",label=r\"D = %3.2f ; S = %3.2f; Offset = %3.2f\"%(depth,slip,off))\n",
    "    plt.ylim([10,50])\n",
    "    plt.title('Profile C-C\\'')\n",
    "    plt.grid(True)\n",
    "    plt.show()\n",
    " \n",
    "interact(interactive_plot, slip=(0, 40, 0.1), depth=(-40, -0.1, 0.1),off=(1,40, 0.1))"
   ]
  },
  {
   "cell_type": "markdown",
   "id": "a2e2f74a-03f3-4f60-999d-c10b7a268370",
   "metadata": {},
   "source": [
    "Again, write your best estimated parameters C-C'\n",
    "\n",
    "**✏️ input your answer in the cell**"
   ]
  },
  {
   "cell_type": "code",
   "execution_count": null,
   "id": "37855a22-f168-4199-a9c5-10d397d6720c",
   "metadata": {},
   "outputs": [],
   "source": [
    "slip = ...\n",
    "depth = ...\n",
    "offset = ..."
   ]
  },
  {
   "cell_type": "markdown",
   "id": "526a5ab3-09e2-46c1-a1f8-651377d1f71b",
   "metadata": {},
   "source": [
    "<div class=\"alert alert-info\" style=\"color:black;\">\n",
    "\n",
    "### Question 1\n",
    "\n",
    "\n",
    "Explain the differences between the parameters obtained for the two profiles and discuss which fault segment is likely to be seismically active. Given that the last earthquake recorded in the area was a Mw 6.0 event in 1966, which resulted in a total slip of 40 cm, what is the recurrence interval? What assumptions did you make for your calculation?\n",
    "\n",
    "</div>\n"
   ]
  },
  {
   "cell_type": "markdown",
   "id": "a1bae131-b9ed-411b-afc5-d9ac78cdf2d4",
   "metadata": {},
   "source": [
    "**✏️ input your answer below**\n",
    "\n",
    "<div class=\"alert alert-success style=\"color:black;\">\n",
    "\n",
    "here\n",
    "\n",
    "\n",
    "    \n",
    "    \n",
    "</div>"
   ]
  },
  {
   "cell_type": "markdown",
   "id": "7cd92df3-383e-4920-893f-e26c1fc5d82e",
   "metadata": {},
   "source": [
    "## Part 2\n",
    "\n",
    "The Yellowstone Caldera is a volcanic caldera in Yellowstone National Park in the Western United States, sometimes referred to as the Yellowstone Supervolcano. Over the last 2.1 million years, there have been three major eruptions at Yellowstone, resulting in a Mean Recurrence Interval (MRI) of 600,00-800,000 years.\n",
    "\n",
    "\n",
    "<img src=\"https://github.com/koulali/ceg3707/blob/main/img/fig9.jpeg?raw=true\" alt=\"Drawing\" style=\"width: 600px;\"/>\n",
    "\n",
    "An InSAR interferogram was calculated using a pair of Sentinel-1 images from the 9th June 2015 and 4th July 2017 (Figure below from Wicks et al., 2020).\n",
    "\n",
    "<img src=\"https://github.com/koulali/ceg3707/blob/main/img/fig10-2.svg?raw=true\" alt=\"Drawing\" style=\"width: 700px;\"/>\n",
    "\n",
    "### Question 1:\n",
    "\n",
    "Analyse the interferrogram at the Noriss Grey Basin (NGB) and the south caldera. Indicate where do you observe an inflation(uplift)/deflation(subsidence) signals?\n",
    "\n",
    "Hint:\n",
    "\n",
    "- Deflation = fringes colors from purple to blue-green-yellow-red\n",
    "- Inflation = fringe colors change from red to yellow-green-blue to purple"
   ]
  },
  {
   "cell_type": "markdown",
   "id": "e6916455-899d-4df0-96ac-975bd3c1b425",
   "metadata": {},
   "source": [
    "**✏️ input your answer below**\n",
    "\n",
    "<div class=\"alert alert-success style=\"color:black;\">\n",
    "\n",
    "\n",
    "\n",
    "here\n",
    "\n",
    "\n",
    "\n",
    "</div>"
   ]
  },
  {
   "cell_type": "markdown",
   "id": "70e334ac-07f9-4aec-afe7-2669c446e429",
   "metadata": {},
   "source": [
    "### Question 2:\n",
    "\n",
    "What is the maximum uplift/subsidence observed [cm] in Norris Geyser Basin (NGB) ?"
   ]
  },
  {
   "cell_type": "code",
   "execution_count": null,
   "id": "5804b2a4-55ca-4768-ac93-1ea54dc26fc1",
   "metadata": {},
   "outputs": [],
   "source": [
    "# ENVISAT is a C-band mission\n",
    "half_lambda = ...\n",
    "max_disp = ...\n",
    "print(\"The maxixmum observed displacement [cm] is {:4.2f}\".format(max_disp))"
   ]
  },
  {
   "cell_type": "markdown",
   "id": "7110f759-8d30-43f2-a7c4-9791b27cff14",
   "metadata": {},
   "source": [
    "### Question 4:\n",
    "\n",
    "A GPS station (NRWY) located in Norris was recording continuous vertical positions at the period interval of InSAR (figure below from Wicks et al., 2020).\n",
    "\n",
    "<img src=\"https://github.com/koulali/ceg3707/blob/main/img/fig11.svg?raw=true\" alt=\"Drawing\" style=\"width: 700px;\"/>\n",
    "\n",
    "Do you observe any movement in the GPS time series (positive rate: uplift / negative rate subsidence). Compare with your InSAR result. Is the GPS consistent with InSAR? Discuss.\n"
   ]
  },
  {
   "cell_type": "markdown",
   "id": "fa2a1548-9d20-42d2-ba93-f2b66fd26dbb",
   "metadata": {},
   "source": [
    "**✏️ input your answer below**\n",
    "\n",
    "<div class=\"alert alert-success style=\"color:black;\">\n",
    "\n",
    "\n",
    "here\n",
    "\n",
    "\n",
    "\n",
    "\n",
    "</div>"
   ]
  },
  {
   "cell_type": "markdown",
   "id": "1d9cc84d-c90c-4172-8bf6-35ffdc7a55ff",
   "metadata": {},
   "source": [
    "## Part III\n",
    "\n",
    "The goal for this part is to introduce the point source Mogi model to interpret surface displacements from InSAR in volcanic areas. You will describe the sensitivity of the model by varying different parameters of the model (3D source location and volume of magma influx). No programming experience is required. I will explain what each code cell is doing, and indicate where you have to modify the parameters to answer the questions. \n",
    "\n",
    "<img style=\"padding: 7px\" src=\"https://github.com/koulali/ceg3707/blob/main/img/fig12.jpg?raw=true\" width=\"550\" align=\"right\" /> Okmok is one of the more active volcanoes in Alaska’s Aleutian Chain. Its last (confirmed) eruption was in the summer of 2008. Okmok is interesting from an InSAR perspective as it inflates and deflates heavily as magma moves around in its magmatic source located roughly 2.5 km underneath the surface. To learn more about Okmok volcano and its eruptive history, please visit the very informative site of the <a href=\"https://avo.alaska.edu/volcanoes/activity.php?volcname=Okmok&eruptionid=604&page=basic\" target=\"_blank\">Alaska Volcano Observatory</a>.\n",
    "\n",
    "This lab uses a pair of C-band ERS-2 SAR images acquired on Aug 18, 2000 and Jul 19, 2002 to analyze the properties of a volcanic source that was responsible for an inflation of Okmok volcano of more than 3 cm near its summit. The figure to the right shows the Okmok surface displacement as measured by GPS data from field campaigns conducted in 2000 and 2002. The plots show that the displacement measured at the site is consistent with that created by an inflating point (Mogi) source."
   ]
  },
  {
   "cell_type": "code",
   "execution_count": null,
   "id": "925a0e58-e704-4b08-ad1c-b59073ffe082",
   "metadata": {},
   "outputs": [],
   "source": [
    "# we download InSAR data (do not modify this cell)\n",
    "!wget https://github.com/koulali/pycegm/raw/main/pycegm/data/E451_20000818_20020719.unw"
   ]
  },
  {
   "cell_type": "code",
   "execution_count": null,
   "id": "b87e93ab-6ea8-4d48-ad68-64a78f0fb1aa",
   "metadata": {},
   "outputs": [],
   "source": [
    "# load data\n",
    "observed_displacement = mogi.load_data()"
   ]
  },
  {
   "cell_type": "code",
   "execution_count": null,
   "id": "128dd448-c2b2-4268-b558-a8626d245fb3",
   "metadata": {},
   "outputs": [],
   "source": [
    "mogi.plot_model(observed_displacement)"
   ]
  },
  {
   "cell_type": "markdown",
   "id": "3030c2af-d6f8-4731-87ba-dd73ef4cddad",
   "metadata": {},
   "source": [
    "### The Mogi Source Forward Model for InSAR Observations\n",
    "\n",
    "#### The Mogi Equation\n",
    "\n",
    "The Mogi model provides the 3D ground displacement, $u(x,y,z)$, due to an inflating source at location $(x_s,y_s,z_s)$ with volume change $V$:\n",
    "\n",
    "\\begin{equation}\n",
    "u(x,y,z)=\\frac{1}{\\pi}(1-\\nu)\\cdot V\\Big(\\frac{x-x_s}{r(x,y,z)^3},\\frac{y-y_s}{r(x,y,z)^3},\\frac{z-z_s}{r(x,y,z)^3}\\Big)\n",
    "\\end{equation}\n",
    "<br>\n",
    "\\begin{equation}\n",
    "r(x,y,z)=\\sqrt{(x-x_s)^2+(y-y_s)^2+(z-z_s)^2}\n",
    "\\end{equation}\n",
    "\n",
    "where $r$ is the distance from the Mogi source to $(x,y,z)$, and $\\nu$ is the Poisson's ratio of the halfspace. The Poisson ratio describes how rocks react when put under stress (e.g., pressure). It is affected by temperature, the quantity of liquid to solid, and the composition of the soil material. <b>In our problem, we will assume that $\\nu$ is fixed</b>. \n",
    "\n",
    "#### Projecting Mogi Displacement to InSAR Line-of-Sight\n",
    "\n",
    "In our example, the $x$-axis points east, $y$ points north, and $z$ points up. However, in the code the input values for $z$ are assumed to be depth, such that the Mogi source is at depth $z_s > 0$. The observed interferogram is already corrected for the effect of topography, so the observations can be considered to be at $z = 0$.\n",
    "    \n",
    "<img style=\"padding: 7px\" src=\"https://github.com/koulali/ceg3707/blob/main/img/fig13.jpg?raw=true\" width=\"650\" align=\"center\" />\n",
    "The satellite “sees” a projection of the 3D ground displacement, $u$, onto the look vector, $\\hat{L}$, which points from the satellite to the target. Therefore, we are actually interested in the (signed magnitude of the) projection of $u$ onto $\\hat{L}$ (right). This is given by\n",
    "\n",
    "\\begin{array}{lcl} proj_{\\hat{L}}u & = & (u^T\\hat{L})\\hat{L} \\\\ u^T\\hat{L} & = & u \\cdot \\hat{L} = |u||\\hat{L}|cos(\\alpha) = |u|cos(\\alpha) \\\\ & = & u_x\\hat{L}_x+ u_y\\hat{L}_y + u_z\\hat{L}_z \\end{array}\n",
    "\n",
    "where the look vector is given by $\\hat{L}=(sin(l) \\cdot cos(t), -sin(l) \\cdot sin(t), -cos(l))$, where $l$ is the look angle measured from the nadir direction and $t$ is the satellite track angle measured clockwise from geographic north. All vectors are represented in an east-north-up basis.\n",
    "\n",
    "Our forward model takes a Mogi source, $(x_s,y_s,z_s,V)$, and computes the look displacement at any given $(x, y, z)$ point. If we represent the <i>i</i>th point on our surface grid by $x_i = (x_i,y_i,z_i)$ the the displacement vector is $u_i = u(x_i, y_i, z_i)$, and the look displacement is\n",
    "\n",
    "\\begin{equation}\n",
    "d_i = u_i \\cdot \\hat{L}\n",
    "\\end{equation}\n",
    "\n",
    "**Plotting The Mogi Forward Model**"
   ]
  },
  {
   "cell_type": "code",
   "execution_count": null,
   "id": "8fbd0d03-3a9c-49f0-ae69-2b50d8b82356",
   "metadata": {},
   "outputs": [],
   "source": [
    "# example\n",
    "zs = 2.58\n",
    "volume = 0.0034\n",
    "mogi.plot_forward_model_mogi(zs,volume,observed_displacement)"
   ]
  },
  {
   "cell_type": "markdown",
   "id": "f13f2058-43cd-4fef-83b2-7f0807be6dcc",
   "metadata": {},
   "source": [
    "<div class=\"alert alert-info\" style=\"color:black;\">\n",
    "\n",
    "### Question 1 \n",
    "Perform reference run in code cell above using source model parameters to $z_{s1} = 2.5 km$; $V_1 = 0.01 km^3$. Copy the plotting code to the following cell and change the source parameters.\n",
    "</div>"
   ]
  },
  {
   "cell_type": "code",
   "execution_count": null,
   "id": "a5c65af5-4289-4f67-872d-3ba6314a31b6",
   "metadata": {},
   "outputs": [],
   "source": [
    "# your answer here\n"
   ]
  },
  {
   "cell_type": "markdown",
   "id": "bd177b18-3eb9-4290-8ffb-02ccae4cb1ec",
   "metadata": {},
   "source": [
    "<div class=\"alert alert-info\" style=\"color:black;\">\n",
    "\n",
    "### Question 2\n",
    "Set source model parameters to $z_{s2} = 7.5 km$; $V_1 = 0.01 km^3$.\n",
    "</div>"
   ]
  },
  {
   "cell_type": "code",
   "execution_count": null,
   "id": "d79edb35-adff-4f7e-848a-bce096dfd0d4",
   "metadata": {},
   "outputs": [],
   "source": [
    "# your answer here\n"
   ]
  },
  {
   "cell_type": "markdown",
   "id": "6d8cf749-99ec-42b1-8250-c9c695bc0fca",
   "metadata": {},
   "source": [
    "<div class=\"alert alert-info\" style=\"color:black;\">\n",
    "\n",
    "### Question 3\n",
    "\n",
    "Set source model parameters to $z_{s1} = 2.5 km$ and $V_2 = 0.03 km^3$.\n",
    "</div>"
   ]
  },
  {
   "cell_type": "code",
   "execution_count": null,
   "id": "adfd158a-9e5f-459b-9251-daa8bdbb8d17",
   "metadata": {},
   "outputs": [],
   "source": [
    "# your answer here\n"
   ]
  },
  {
   "cell_type": "markdown",
   "id": "c5d47765-0d78-4993-b7c9-5c732945d224",
   "metadata": {},
   "source": [
    "<div class=\"alert alert-info\" style=\"color:black;\">\n",
    "\n",
    "### Question 4\n",
    "\n",
    "Set source model parameters to $z_{s2} = 2.5 km$ and $V_2 = 0.06 km^3$.\n",
    "</div>"
   ]
  },
  {
   "cell_type": "code",
   "execution_count": null,
   "id": "b00a6d7e-77f7-40a4-a25d-4d38e37289e1",
   "metadata": {},
   "outputs": [],
   "source": [
    "# your answer here\n"
   ]
  },
  {
   "cell_type": "markdown",
   "id": "1e40ef92-7101-4e89-aa46-4df331f3ee04",
   "metadata": {},
   "source": [
    "### Question 5\n",
    "\n",
    "<div class=\"alert alert-danger\">\n",
    "\n",
    "\n",
    "Describe what you learned from the experiment in questions 1 to 4\n",
    "\n",
    "\n",
    "\n",
    "\n",
    "    \n",
    "</div>"
   ]
  },
  {
   "cell_type": "markdown",
   "id": "56b8cf1d-41f8-43af-80e5-42b5f5b52b7a",
   "metadata": {},
   "source": [
    "**✏️ input your answer below**\n",
    "\n",
    "<div class=\"alert alert-success style=\"color:black;\">\n",
    "\n",
    "\n",
    "here\n",
    "\n",
    "\n",
    "\n",
    "\n",
    "</div>"
   ]
  },
  {
   "cell_type": "markdown",
   "id": "dc29f33f-5d7c-425a-8312-2c07275ac83c",
   "metadata": {},
   "source": [
    "### Solving the Inverse Model\n",
    "\n",
    "We can now represent the Mogi *forward problem* as \n",
    "\n",
    "\\begin{equation}\n",
    "g(m) = d\n",
    "\\end{equation}\n",
    "\n",
    "where $g(·)$ describes the forward model in the very first equation in this notebook, $m$ is the (unknown) Mogi model, and $d$ is the predicted interferogram.\n",
    "\n",
    "\n",
    "The inverse problem seeks to determine the optimal parameters $(\\hat{x_s},\\hat{y_s},\\hat{z_s},\\hat{V})$ of the Mogi model $m$ by minimizing the *misfit* between predictions, $g(m)$, and observations $d^{obs}$ according to\n",
    "    \n",
    "\\begin{equation}\n",
    "\\sum{\\Big[g(m) - d^{obs}\\Big]^2}\n",
    "\\end{equation}\n",
    "\n",
    "This equation describes misfit using the *method of least-squares*, a standard approach to approximate the solution of an overdetermined equation system. We will use a *grid-search* approach to find the set of model parameters that minimize the the misfit function. The approach is composed of the following processing steps: \n",
    "\n",
    "1. Loop through the mogi model parameters\n",
    "2. Calculate the forward model for each set of parameters\n",
    "3. Calculate the misfit $\\sum{[g(m) - d^{obs}]^2}$, and\n",
    "4. Find the parameter set that minimizes this misfit.\n",
    "\n",
    "### Running Grid-Search to find Best Fitting Model Parameter $(\\hat{x}_s,\\hat{y}_s)$\n",
    "\n",
    "The following code cell runs a grid-search approach to find the best fitting Mogi source parameters for the 2000-2002 displacement event at Okmok. To keep things simple, we will fix the depth $z_s$ and volume change $V$ parameters close to their \"true\" values and search only for the correct east/north source location ($x_s,y_s$).\n"
   ]
  },
  {
   "cell_type": "code",
   "execution_count": null,
   "id": "32b9630c-8db5-4459-83c7-e1940e24baea",
   "metadata": {},
   "outputs": [],
   "source": [
    "zs = 2.58\n",
    "volume = 0.0034\n",
    "xmin = 19\n",
    "xmax = 22.2\n",
    "xinc = 0.2\n",
    "ymin = 21\n",
    "ymax = 23.2\n",
    "yinc = 0.2\n",
    "xsfit,ysfit,misfit = mogi.search_mogi_location(xmin,xmax,xinc,ymin,ymax,yinc,zs,volume,observed_displacement)"
   ]
  },
  {
   "cell_type": "markdown",
   "id": "2b6c517e-ddd5-4ed3-b6e3-c5a03df4f4c1",
   "metadata": {},
   "source": [
    "### Plot Best-Fitting Mogi Forward Model and Compare to Observations\n",
    "\n",
    "With the best-fitting model parameters defined, you can now analyze how well the model fits the InSAR-observed surface displacement. The best way to do that is to look at both the observed and predicted displacement maps and compare their spatial patterns. Additionally, we will also plot the residuals (**observed_displacement_map** - **observed_displacement_map**) to determine if there are additional signals in the data that are not modeled using Mogi theory. \n",
    "\n",
    "**We Compare the observed and predicted displacement maps**"
   ]
  },
  {
   "cell_type": "code",
   "execution_count": null,
   "id": "580febcd-c99f-4bcd-8833-21af13443020",
   "metadata": {},
   "outputs": [],
   "source": [
    "mogi.plot_fit_mogi(xsfit,ysfit,zs,volume,observed_displacement)"
   ]
  },
  {
   "cell_type": "markdown",
   "id": "69c48c29-ee34-42d9-83f5-8e1c985dc40a",
   "metadata": {},
   "source": [
    "###  Plot and Inspect the Misfit Function\n",
    "\n",
    "The code cell below plots the misfit function ($\\sum{[g(m) - d^{obs}]^2}$) describing the fit of different Mogi source parameterizations to the observed InSAR data. You should notice a clear minimum in the misfit plot at the location of the best fitting source location estimated above. \n",
    "    \n",
    "You may notice that, even for the best fitting solution, the misfit does not become zero. This could be due to other signals in the InSAR data (e.g., atmospheric effects or residual topography). Alternatively, it could also indicate that the observed displacement doesn't fully comply with Mogi theory. \n",
    "\n",
    "**Plot the misfit function ($\\sum{[g(m) - d^{obs}]^2}$):**"
   ]
  },
  {
   "cell_type": "code",
   "execution_count": null,
   "id": "195df4f9-66f0-40bb-8d73-6371c1942d27",
   "metadata": {},
   "outputs": [],
   "source": [
    "mogi.plot_misfit_mogi(xmin,xmax,xinc,ymin,ymax,yinc,xsfit,ysfit,misfit)"
   ]
  },
  {
   "cell_type": "markdown",
   "id": "adcd08ea-1dee-44a8-9055-8d7186099b9d",
   "metadata": {},
   "source": [
    "<div class=\"alert alert-info\" style=\"color:black;\">\n",
    "\n",
    "### Question 6\n",
    "\n",
    "For this second grid-search run, we now switch out the model parameters we are trying to estimate. We will assume that the lateral location of the Mogi source is now fixed to its estimated value ($\\hat{x}_s = 20.6 km$; $\\hat{y}_s = 21.8 km$).\n",
    "    \n",
    "\n",
    "- Using the previous grid-search script as a template, <b>write a new grid-search script to search for the best fitting source model depth ($z_s$) and volume change ($V$)</b>. Instead of `mogi.search_mogi_location`, use the following function, which returns the best depth and volume change fit.\n",
    "\n",
    "```\n",
    "zsfit,vsfit,misfit = mogi.search_mogi_source(zsmin,zsmax,zsinc,vsmin,vsmax,vsinc,xs,ys,observed_displacement)\n",
    "```\n",
    "\n",
    "</div>"
   ]
  },
  {
   "cell_type": "code",
   "execution_count": null,
   "id": "1e143dbe-a0d3-4bc3-b74c-00c7fc3b7ce1",
   "metadata": {},
   "outputs": [],
   "source": [
    "# your answer here\n"
   ]
  },
  {
   "cell_type": "markdown",
   "id": "05a9bd36-d791-4dcf-899f-d535dee4827e",
   "metadata": {},
   "source": [
    "<div class=\"alert alert-info\" style=\"color:black;\">\n",
    "\n",
    "### Question 7\n",
    "\n",
    "\n",
    "Plot your missfit fuction using the function `mogi.plot_misfit_mogi(zsmin,zsmax,zsinc,vsmin,vsmax,vsinc,zsfit,vsfit,misfit)`, where zsfit and vsfit are your best fit estimates for the depth and volume.\n",
    "    \n",
    "</div>"
   ]
  },
  {
   "cell_type": "code",
   "execution_count": null,
   "id": "228f6258-70b8-41c7-a8b9-ba6efcd0bdca",
   "metadata": {},
   "outputs": [],
   "source": [
    "# your answer here\n",
    "\n"
   ]
  },
  {
   "cell_type": "markdown",
   "id": "c97a448b-126f-493b-9667-5bcf56d4d581",
   "metadata": {},
   "source": [
    "<div class=\"alert alert-info\" style=\"color:black;\">\n",
    "\n",
    "### Question 8\n",
    "\n",
    "\n",
    "Discuss your results. You should see that the shape of the function is different. Misfit function 1 is largely of circular shape while misfit function 2 appears elongated. Interpret this pattern.\n",
    "</div>"
   ]
  },
  {
   "cell_type": "markdown",
   "id": "1c7b93a1-d659-4e08-97e6-2dae75219c56",
   "metadata": {},
   "source": [
    "**✏️ input your answer below**\n",
    "\n",
    "<div class=\"alert alert-success style=\"color:black;\">\n",
    "\n",
    "\n",
    "here\n",
    "\n",
    "\n",
    "\n",
    "\n",
    "</div>\n"
   ]
  },
  {
   "cell_type": "markdown",
   "id": "960b4532-4642-4315-b570-a5bef73364ea",
   "metadata": {},
   "source": [
    "### ... Congratulations you reached the END of Practical 2 \n",
    "🎉\n",
    "🎉\n",
    "🎉\n",
    "🎉\n",
    "\n",
    "Share your notebook and submit the link in the Practical's assignement page / Canvas."
   ]
  }
 ],
 "metadata": {
  "kernelspec": {
   "display_name": "Python 3 (ipykernel)",
   "language": "python",
   "name": "python3"
  },
  "language_info": {
   "codemirror_mode": {
    "name": "ipython",
    "version": 3
   },
   "file_extension": ".py",
   "mimetype": "text/x-python",
   "name": "python",
   "nbconvert_exporter": "python",
   "pygments_lexer": "ipython3",
   "version": "3.10.14"
  }
 },
 "nbformat": 4,
 "nbformat_minor": 5
}
